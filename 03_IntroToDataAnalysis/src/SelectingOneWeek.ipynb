{
 "cells": [
  {
   "cell_type": "markdown",
   "metadata": {},
   "source": [
    "# Selecting one week of taxi data (Oct. 6, 2014 - Oct. 12, 2014)"
   ]
  },
  {
   "cell_type": "markdown",
   "metadata": {},
   "source": [
    "**Import libraries: Pandas & Numpy**"
   ]
  },
  {
   "cell_type": "code",
   "execution_count": 1,
   "metadata": {},
   "outputs": [],
   "source": [
    "import pandas as pd\n",
    "import numpy as np"
   ]
  },
  {
   "cell_type": "markdown",
   "metadata": {},
   "source": [
    "**Load taxi data for the full month (October 2014)**"
   ]
  },
  {
   "cell_type": "code",
   "execution_count": 2,
   "metadata": {},
   "outputs": [],
   "source": [
    "taxiData = pd.read_csv('../data/yellow_tripdata_2014-10.csv', delimiter=',')"
   ]
  },
  {
   "cell_type": "markdown",
   "metadata": {},
   "source": [
    "**Explore taxi data: `head()`, `shape`, `dtypes` & `columns`**"
   ]
  },
  {
   "cell_type": "code",
   "execution_count": 3,
   "metadata": {},
   "outputs": [
    {
     "data": {
      "text/html": [
       "<div>\n",
       "<style scoped>\n",
       "    .dataframe tbody tr th:only-of-type {\n",
       "        vertical-align: middle;\n",
       "    }\n",
       "\n",
       "    .dataframe tbody tr th {\n",
       "        vertical-align: top;\n",
       "    }\n",
       "\n",
       "    .dataframe thead th {\n",
       "        text-align: right;\n",
       "    }\n",
       "</style>\n",
       "<table border=\"1\" class=\"dataframe\">\n",
       "  <thead>\n",
       "    <tr style=\"text-align: right;\">\n",
       "      <th></th>\n",
       "      <th>vendor_id</th>\n",
       "      <th>pickup_datetime</th>\n",
       "      <th>dropoff_datetime</th>\n",
       "      <th>passenger_count</th>\n",
       "      <th>trip_distance</th>\n",
       "      <th>pickup_longitude</th>\n",
       "      <th>pickup_latitude</th>\n",
       "      <th>rate_code</th>\n",
       "      <th>store_and_fwd_flag</th>\n",
       "      <th>dropoff_longitude</th>\n",
       "      <th>dropoff_latitude</th>\n",
       "      <th>payment_type</th>\n",
       "      <th>fare_amount</th>\n",
       "      <th>surcharge</th>\n",
       "      <th>mta_tax</th>\n",
       "      <th>tip_amount</th>\n",
       "      <th>tolls_amount</th>\n",
       "      <th>total_amount</th>\n",
       "    </tr>\n",
       "  </thead>\n",
       "  <tbody>\n",
       "    <tr>\n",
       "      <th>0</th>\n",
       "      <td>CMT</td>\n",
       "      <td>2014-10-01 08:55:07</td>\n",
       "      <td>2014-10-01 09:11:03</td>\n",
       "      <td>1</td>\n",
       "      <td>2.2</td>\n",
       "      <td>-74.005867</td>\n",
       "      <td>40.737570</td>\n",
       "      <td>1</td>\n",
       "      <td>Y</td>\n",
       "      <td>-74.015534</td>\n",
       "      <td>40.708277</td>\n",
       "      <td>CRD</td>\n",
       "      <td>12.0</td>\n",
       "      <td>0.0</td>\n",
       "      <td>0.5</td>\n",
       "      <td>1.0</td>\n",
       "      <td>0.0</td>\n",
       "      <td>13.5</td>\n",
       "    </tr>\n",
       "    <tr>\n",
       "      <th>1</th>\n",
       "      <td>CMT</td>\n",
       "      <td>2014-10-01 10:51:17</td>\n",
       "      <td>2014-10-01 11:26:11</td>\n",
       "      <td>1</td>\n",
       "      <td>15.7</td>\n",
       "      <td>-73.873193</td>\n",
       "      <td>40.774056</td>\n",
       "      <td>1</td>\n",
       "      <td>Y</td>\n",
       "      <td>-73.999846</td>\n",
       "      <td>40.631132</td>\n",
       "      <td>CRD</td>\n",
       "      <td>45.5</td>\n",
       "      <td>0.0</td>\n",
       "      <td>0.5</td>\n",
       "      <td>9.2</td>\n",
       "      <td>0.0</td>\n",
       "      <td>55.2</td>\n",
       "    </tr>\n",
       "    <tr>\n",
       "      <th>2</th>\n",
       "      <td>CMT</td>\n",
       "      <td>2014-10-01 02:03:03</td>\n",
       "      <td>2014-10-01 02:06:55</td>\n",
       "      <td>1</td>\n",
       "      <td>1.0</td>\n",
       "      <td>0.000000</td>\n",
       "      <td>0.000000</td>\n",
       "      <td>1</td>\n",
       "      <td>N</td>\n",
       "      <td>0.000000</td>\n",
       "      <td>0.000000</td>\n",
       "      <td>CRD</td>\n",
       "      <td>5.0</td>\n",
       "      <td>0.5</td>\n",
       "      <td>0.5</td>\n",
       "      <td>1.0</td>\n",
       "      <td>0.0</td>\n",
       "      <td>7.0</td>\n",
       "    </tr>\n",
       "    <tr>\n",
       "      <th>3</th>\n",
       "      <td>CMT</td>\n",
       "      <td>2014-10-01 00:06:35</td>\n",
       "      <td>2014-10-01 00:17:05</td>\n",
       "      <td>2</td>\n",
       "      <td>2.5</td>\n",
       "      <td>-73.987151</td>\n",
       "      <td>40.732922</td>\n",
       "      <td>1</td>\n",
       "      <td>N</td>\n",
       "      <td>-73.991831</td>\n",
       "      <td>40.758148</td>\n",
       "      <td>CRD</td>\n",
       "      <td>10.0</td>\n",
       "      <td>0.5</td>\n",
       "      <td>0.5</td>\n",
       "      <td>2.2</td>\n",
       "      <td>0.0</td>\n",
       "      <td>13.2</td>\n",
       "    </tr>\n",
       "    <tr>\n",
       "      <th>4</th>\n",
       "      <td>CMT</td>\n",
       "      <td>2014-10-01 01:34:13</td>\n",
       "      <td>2014-10-01 01:47:02</td>\n",
       "      <td>1</td>\n",
       "      <td>4.2</td>\n",
       "      <td>-73.983267</td>\n",
       "      <td>40.726577</td>\n",
       "      <td>1</td>\n",
       "      <td>N</td>\n",
       "      <td>-73.937556</td>\n",
       "      <td>40.716380</td>\n",
       "      <td>CRD</td>\n",
       "      <td>15.0</td>\n",
       "      <td>0.5</td>\n",
       "      <td>0.5</td>\n",
       "      <td>3.2</td>\n",
       "      <td>0.0</td>\n",
       "      <td>19.2</td>\n",
       "    </tr>\n",
       "  </tbody>\n",
       "</table>\n",
       "</div>"
      ],
      "text/plain": [
       "  vendor_id      pickup_datetime     dropoff_datetime   passenger_count  \\\n",
       "0       CMT  2014-10-01 08:55:07  2014-10-01 09:11:03                 1   \n",
       "1       CMT  2014-10-01 10:51:17  2014-10-01 11:26:11                 1   \n",
       "2       CMT  2014-10-01 02:03:03  2014-10-01 02:06:55                 1   \n",
       "3       CMT  2014-10-01 00:06:35  2014-10-01 00:17:05                 2   \n",
       "4       CMT  2014-10-01 01:34:13  2014-10-01 01:47:02                 1   \n",
       "\n",
       "    trip_distance   pickup_longitude   pickup_latitude   rate_code  \\\n",
       "0             2.2         -74.005867         40.737570           1   \n",
       "1            15.7         -73.873193         40.774056           1   \n",
       "2             1.0           0.000000          0.000000           1   \n",
       "3             2.5         -73.987151         40.732922           1   \n",
       "4             4.2         -73.983267         40.726577           1   \n",
       "\n",
       "   store_and_fwd_flag   dropoff_longitude   dropoff_latitude  payment_type  \\\n",
       "0                   Y          -74.015534          40.708277           CRD   \n",
       "1                   Y          -73.999846          40.631132           CRD   \n",
       "2                   N            0.000000           0.000000           CRD   \n",
       "3                   N          -73.991831          40.758148           CRD   \n",
       "4                   N          -73.937556          40.716380           CRD   \n",
       "\n",
       "    fare_amount   surcharge   mta_tax   tip_amount   tolls_amount  \\\n",
       "0          12.0         0.0       0.5          1.0            0.0   \n",
       "1          45.5         0.0       0.5          9.2            0.0   \n",
       "2           5.0         0.5       0.5          1.0            0.0   \n",
       "3          10.0         0.5       0.5          2.2            0.0   \n",
       "4          15.0         0.5       0.5          3.2            0.0   \n",
       "\n",
       "    total_amount  \n",
       "0           13.5  \n",
       "1           55.2  \n",
       "2            7.0  \n",
       "3           13.2  \n",
       "4           19.2  "
      ]
     },
     "execution_count": 3,
     "metadata": {},
     "output_type": "execute_result"
    }
   ],
   "source": [
    "taxiData.head()"
   ]
  },
  {
   "cell_type": "code",
   "execution_count": 35,
   "metadata": {},
   "outputs": [
    {
     "data": {
      "text/plain": [
       "(14232487, 18)"
      ]
     },
     "execution_count": 35,
     "metadata": {},
     "output_type": "execute_result"
    }
   ],
   "source": [
    "taxiData.shape"
   ]
  },
  {
   "cell_type": "code",
   "execution_count": 6,
   "metadata": {},
   "outputs": [
    {
     "data": {
      "text/plain": [
       "vendor_id               object\n",
       " pickup_datetime        object\n",
       " dropoff_datetime       object\n",
       " passenger_count         int64\n",
       " trip_distance         float64\n",
       " pickup_longitude      float64\n",
       " pickup_latitude       float64\n",
       " rate_code               int64\n",
       " store_and_fwd_flag     object\n",
       " dropoff_longitude     float64\n",
       " dropoff_latitude      float64\n",
       " payment_type           object\n",
       " fare_amount           float64\n",
       " surcharge             float64\n",
       " mta_tax               float64\n",
       " tip_amount            float64\n",
       " tolls_amount          float64\n",
       " total_amount          float64\n",
       "dtype: object"
      ]
     },
     "execution_count": 6,
     "metadata": {},
     "output_type": "execute_result"
    }
   ],
   "source": [
    "taxiData.dtypes"
   ]
  },
  {
   "cell_type": "code",
   "execution_count": 15,
   "metadata": {},
   "outputs": [
    {
     "data": {
      "text/plain": [
       "Index(['vendor_id', ' pickup_datetime', ' dropoff_datetime',\n",
       "       ' passenger_count', ' trip_distance', ' pickup_longitude',\n",
       "       ' pickup_latitude', ' rate_code', ' store_and_fwd_flag',\n",
       "       ' dropoff_longitude', ' dropoff_latitude', ' payment_type',\n",
       "       ' fare_amount', ' surcharge', ' mta_tax', ' tip_amount',\n",
       "       ' tolls_amount', ' total_amount'],\n",
       "      dtype='object')"
      ]
     },
     "execution_count": 15,
     "metadata": {},
     "output_type": "execute_result"
    }
   ],
   "source": [
    "taxiData.columns"
   ]
  },
  {
   "cell_type": "markdown",
   "metadata": {},
   "source": [
    "**Test conversion to `datetime` data type**"
   ]
  },
  {
   "cell_type": "code",
   "execution_count": 20,
   "metadata": {},
   "outputs": [
    {
     "data": {
      "text/plain": [
       "0   2014-10-01 08:55:07\n",
       "1   2014-10-01 10:51:17\n",
       "2   2014-10-01 02:03:03\n",
       "3   2014-10-01 00:06:35\n",
       "4   2014-10-01 01:34:13\n",
       "Name:  pickup_datetime, dtype: datetime64[ns]"
      ]
     },
     "execution_count": 20,
     "metadata": {},
     "output_type": "execute_result"
    }
   ],
   "source": [
    "pd.to_datetime(taxiData[' pickup_datetime']).head()"
   ]
  },
  {
   "cell_type": "markdown",
   "metadata": {},
   "source": [
    "**Create new dataframe with just the trips that started between Oct. 6, 2014 and Oct. 12, 2014**"
   ]
  },
  {
   "cell_type": "code",
   "execution_count": 34,
   "metadata": {},
   "outputs": [],
   "source": [
    "selectedData = taxiData[(pd.to_datetime(taxiData[' pickup_datetime']) >= '2014-10-06') & (pd.to_datetime(taxiData[' pickup_datetime']) < '2014-10-13')]"
   ]
  },
  {
   "cell_type": "markdown",
   "metadata": {},
   "source": [
    "**Explore new dataframe: `shape`, `max()` & `min()`**"
   ]
  },
  {
   "cell_type": "code",
   "execution_count": 36,
   "metadata": {},
   "outputs": [
    {
     "data": {
      "text/plain": [
       "(3217091, 18)"
      ]
     },
     "execution_count": 36,
     "metadata": {},
     "output_type": "execute_result"
    }
   ],
   "source": [
    "selectedData.shape"
   ]
  },
  {
   "cell_type": "code",
   "execution_count": 37,
   "metadata": {},
   "outputs": [
    {
     "data": {
      "text/plain": [
       "'2014-10-12 23:59:59'"
      ]
     },
     "execution_count": 37,
     "metadata": {},
     "output_type": "execute_result"
    }
   ],
   "source": [
    "selectedData[' pickup_datetime'].max()"
   ]
  },
  {
   "cell_type": "code",
   "execution_count": 38,
   "metadata": {},
   "outputs": [
    {
     "data": {
      "text/plain": [
       "'2014-10-06 00:00:00'"
      ]
     },
     "execution_count": 38,
     "metadata": {},
     "output_type": "execute_result"
    }
   ],
   "source": [
    "selectedData[' pickup_datetime'].min()"
   ]
  },
  {
   "cell_type": "markdown",
   "metadata": {},
   "source": [
    "**Export selected trips to `.csv` file**"
   ]
  },
  {
   "cell_type": "code",
   "execution_count": 39,
   "metadata": {},
   "outputs": [],
   "source": [
    "selectedData.to_csv('../data/yellow_tripdata_141006_141012.csv')"
   ]
  }
 ],
 "metadata": {
  "kernelspec": {
   "display_name": "Python 3",
   "language": "python",
   "name": "python3"
  },
  "language_info": {
   "codemirror_mode": {
    "name": "ipython",
    "version": 3
   },
   "file_extension": ".py",
   "mimetype": "text/x-python",
   "name": "python",
   "nbconvert_exporter": "python",
   "pygments_lexer": "ipython3",
   "version": "3.7.2"
  }
 },
 "nbformat": 4,
 "nbformat_minor": 2
}
