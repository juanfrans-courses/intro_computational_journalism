{
 "cells": [
  {
   "cell_type": "markdown",
   "metadata": {},
   "source": [
    "# Selecting one day of data the old-school way (without Pandas)"
   ]
  },
  {
   "cell_type": "markdown",
   "metadata": {},
   "source": [
    "**Import libraries: csv**"
   ]
  },
  {
   "cell_type": "code",
   "execution_count": 1,
   "metadata": {},
   "outputs": [],
   "source": [
    "import csv"
   ]
  },
  {
   "cell_type": "markdown",
   "metadata": {},
   "source": [
    "**Load data for one week**"
   ]
  },
  {
   "cell_type": "code",
   "execution_count": 3,
   "metadata": {},
   "outputs": [],
   "source": [
    "with open('../data/yellow_tripdata_141006_141012.csv', 'r') as baseFile:\n",
    "    reader = csv.reader(baseFile, delimiter=',')\n",
    "    baseData = list(reader)"
   ]
  },
  {
   "cell_type": "markdown",
   "metadata": {},
   "source": [
    "**Explore loaded data**"
   ]
  },
  {
   "cell_type": "code",
   "execution_count": 4,
   "metadata": {},
   "outputs": [
    {
     "name": "stdout",
     "output_type": "stream",
     "text": [
      "This file has 3217091 trips\n"
     ]
    }
   ],
   "source": [
    "print('This file has', (len(baseData)-1), 'trips')"
   ]
  },
  {
   "cell_type": "code",
   "execution_count": 5,
   "metadata": {},
   "outputs": [
    {
     "name": "stdout",
     "output_type": "stream",
     "text": [
      "['', 'vendor_id', ' pickup_datetime', ' dropoff_datetime', ' passenger_count', ' trip_distance', ' pickup_longitude', ' pickup_latitude', ' rate_code', ' store_and_fwd_flag', ' dropoff_longitude', ' dropoff_latitude', ' payment_type', ' fare_amount', ' surcharge', ' mta_tax', ' tip_amount', ' tolls_amount', ' total_amount']\n"
     ]
    }
   ],
   "source": [
    "print(baseData[0])"
   ]
  },
  {
   "cell_type": "code",
   "execution_count": 6,
   "metadata": {},
   "outputs": [
    {
     "name": "stdout",
     "output_type": "stream",
     "text": [
      "['', 'vendor_id', ' pickup_datetime', ' dropoff_datetime', ' passenger_count', ' trip_distance', ' pickup_longitude', ' pickup_latitude', ' rate_code', ' store_and_fwd_flag', ' dropoff_longitude', ' dropoff_latitude', ' payment_type', ' fare_amount', ' surcharge', ' mta_tax', ' tip_amount', ' tolls_amount', ' total_amount']\n",
      "['181', 'CMT', '2014-10-07 09:40:51', '2014-10-07 09:59:10', '1', '2.2', '-73.998311', '40.724558', '1', 'N', '-74.000646', '40.747619', 'CSH', '12.5', '0.0', '0.5', '0.0', '0.0', '13.0']\n",
      "['216', 'CMT', '2014-10-07 21:17:41', '2014-10-07 21:20:05', '1', '0.1', '-73.973084', '40.747745', '1', 'N', '-73.975798', '40.749202', 'CSH', '3.5', '0.5', '0.5', '0.0', '0.0', '4.5']\n",
      "['234', 'CMT', '2014-10-07 23:27:57', '2014-10-07 23:33:32', '1', '0.7', '-73.97850699999998', '40.754458', '1', 'N', '-73.977423', '40.749642', 'CSH', '5.5', '0.5', '0.5', '0.0', '0.0', '6.5']\n",
      "['474', 'CMT', '2014-10-06 13:29:54', '2014-10-06 13:38:31', '1', '0.7', '-73.982206', '40.768788', '1', 'N', '-73.972975', '40.763026', 'CSH', '7.0', '0.0', '0.5', '0.0', '0.0', '7.5']\n"
     ]
    }
   ],
   "source": [
    "for row in baseData[:5]:\n",
    "    print(row)"
   ]
  },
  {
   "cell_type": "markdown",
   "metadata": {},
   "source": [
    "**Select the trips that started on Oct. 6, 2014**"
   ]
  },
  {
   "cell_type": "code",
   "execution_count": 12,
   "metadata": {},
   "outputs": [],
   "source": [
    "selectedDay = []\n",
    "selectedDay.append(baseData[0])\n",
    "for row in baseData[1:]:\n",
    "    thisDate = row[2].split(' ')[0]\n",
    "    thisDay = int(thisDate.split('-')[2])\n",
    "    if thisDay < 7:\n",
    "        selectedDay.append(row)\n",
    "    else:\n",
    "        pass"
   ]
  },
  {
   "cell_type": "code",
   "execution_count": 13,
   "metadata": {},
   "outputs": [
    {
     "name": "stdout",
     "output_type": "stream",
     "text": [
      "['', 'vendor_id', ' pickup_datetime', ' dropoff_datetime', ' passenger_count', ' trip_distance', ' pickup_longitude', ' pickup_latitude', ' rate_code', ' store_and_fwd_flag', ' dropoff_longitude', ' dropoff_latitude', ' payment_type', ' fare_amount', ' surcharge', ' mta_tax', ' tip_amount', ' tolls_amount', ' total_amount']\n",
      "['474', 'CMT', '2014-10-06 13:29:54', '2014-10-06 13:38:31', '1', '0.7', '-73.982206', '40.768788', '1', 'N', '-73.972975', '40.763026', 'CSH', '7.0', '0.0', '0.5', '0.0', '0.0', '7.5']\n",
      "['10101', 'CMT', '2014-10-06 13:57:43', '2014-10-06 14:20:49', '1', '3.0', '-73.99342199999998', '40.721907', '1', 'N', '-73.99096299999998', '40.755811', 'CSH', '16.5', '0.0', '0.5', '0.0', '0.0', '17.0']\n",
      "['113439', 'CMT', '2014-10-06 14:23:28', '2014-10-06 14:51:38', '1', '2.9', '-73.99096299999998', '40.755811', '1', 'N', '-73.965438', '40.774377', 'CSH', '18.0', '0.0', '0.5', '0.0', '0.0', '18.5']\n",
      "['247747', 'CMT', '2014-10-06 13:26:24', '2014-10-06 13:47:36', '1', '3.3', '-73.982195', '40.756618', '1', 'N', '-74.00843999999998', '40.725955', 'CSH', '15.5', '0.0', '0.5', '0.0', '0.0', '16.0']\n"
     ]
    }
   ],
   "source": [
    "for row in selectedDay[:5]:\n",
    "    print(row)"
   ]
  },
  {
   "cell_type": "markdown",
   "metadata": {},
   "source": [
    "**Export one day**"
   ]
  },
  {
   "cell_type": "code",
   "execution_count": 15,
   "metadata": {},
   "outputs": [],
   "source": [
    "outputFile = '../data/yellow_tripdata_141006.csv'\n",
    "output = open(outputFile, 'w')"
   ]
  },
  {
   "cell_type": "code",
   "execution_count": 17,
   "metadata": {},
   "outputs": [],
   "source": [
    "for row in selectedDay:\n",
    "    output.write(','.join(row) + '\\n')\n",
    "output.close()"
   ]
  },
  {
   "cell_type": "code",
   "execution_count": null,
   "metadata": {},
   "outputs": [],
   "source": []
  }
 ],
 "metadata": {
  "kernelspec": {
   "display_name": "Python 3",
   "language": "python",
   "name": "python3"
  },
  "language_info": {
   "codemirror_mode": {
    "name": "ipython",
    "version": 3
   },
   "file_extension": ".py",
   "mimetype": "text/x-python",
   "name": "python",
   "nbconvert_exporter": "python",
   "pygments_lexer": "ipython3",
   "version": "3.7.2"
  }
 },
 "nbformat": 4,
 "nbformat_minor": 2
}
