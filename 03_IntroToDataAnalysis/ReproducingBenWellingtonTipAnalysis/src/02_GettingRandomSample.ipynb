{
 "cells": [
  {
   "cell_type": "markdown",
   "metadata": {},
   "source": [
    "# Generating a random sample"
   ]
  },
  {
   "cell_type": "markdown",
   "metadata": {},
   "source": [
    "Random samples are great when your dataset is too large but you still want a representative sample to work on. Note, however, that this is not truly random but \"pseudo-random\" (not good enough for cryptography)."
   ]
  },
  {
   "cell_type": "markdown",
   "metadata": {},
   "source": [
    "## Load the base data"
   ]
  },
  {
   "cell_type": "code",
   "execution_count": 1,
   "metadata": {},
   "outputs": [],
   "source": [
    "import pandas as pd\n",
    "import numpy as np"
   ]
  },
  {
   "cell_type": "code",
   "execution_count": 2,
   "metadata": {},
   "outputs": [],
   "source": [
    "taxiData = pd.read_csv('../input/yellow_tripdata_2013-10.csv', delimiter=',')"
   ]
  },
  {
   "cell_type": "code",
   "execution_count": 3,
   "metadata": {},
   "outputs": [
    {
     "data": {
      "text/html": [
       "<div>\n",
       "<style scoped>\n",
       "    .dataframe tbody tr th:only-of-type {\n",
       "        vertical-align: middle;\n",
       "    }\n",
       "\n",
       "    .dataframe tbody tr th {\n",
       "        vertical-align: top;\n",
       "    }\n",
       "\n",
       "    .dataframe thead th {\n",
       "        text-align: right;\n",
       "    }\n",
       "</style>\n",
       "<table border=\"1\" class=\"dataframe\">\n",
       "  <thead>\n",
       "    <tr style=\"text-align: right;\">\n",
       "      <th></th>\n",
       "      <th>vendor_id</th>\n",
       "      <th>pickup_datetime</th>\n",
       "      <th>dropoff_datetime</th>\n",
       "      <th>passenger_count</th>\n",
       "      <th>trip_distance</th>\n",
       "      <th>pickup_longitude</th>\n",
       "      <th>pickup_latitude</th>\n",
       "      <th>rate_code</th>\n",
       "      <th>store_and_fwd_flag</th>\n",
       "      <th>dropoff_longitude</th>\n",
       "      <th>dropoff_latitude</th>\n",
       "      <th>payment_type</th>\n",
       "      <th>fare_amount</th>\n",
       "      <th>surcharge</th>\n",
       "      <th>mta_tax</th>\n",
       "      <th>tip_amount</th>\n",
       "      <th>tolls_amount</th>\n",
       "      <th>total_amount</th>\n",
       "    </tr>\n",
       "  </thead>\n",
       "  <tbody>\n",
       "    <tr>\n",
       "      <th>0</th>\n",
       "      <td>CMT</td>\n",
       "      <td>2013-10-09 14:46:30</td>\n",
       "      <td>2013-10-09 14:56:02</td>\n",
       "      <td>1</td>\n",
       "      <td>1.1</td>\n",
       "      <td>-73.986868</td>\n",
       "      <td>40.756240</td>\n",
       "      <td>1</td>\n",
       "      <td>N</td>\n",
       "      <td>-73.980561</td>\n",
       "      <td>40.764797</td>\n",
       "      <td>CRD</td>\n",
       "      <td>8.0</td>\n",
       "      <td>0.0</td>\n",
       "      <td>0.5</td>\n",
       "      <td>2.12</td>\n",
       "      <td>0.0</td>\n",
       "      <td>10.62</td>\n",
       "    </tr>\n",
       "    <tr>\n",
       "      <th>1</th>\n",
       "      <td>CMT</td>\n",
       "      <td>2013-10-09 17:32:08</td>\n",
       "      <td>2013-10-09 17:45:40</td>\n",
       "      <td>1</td>\n",
       "      <td>2.9</td>\n",
       "      <td>-74.001103</td>\n",
       "      <td>40.721382</td>\n",
       "      <td>1</td>\n",
       "      <td>N</td>\n",
       "      <td>-73.952636</td>\n",
       "      <td>40.712134</td>\n",
       "      <td>CRD</td>\n",
       "      <td>12.5</td>\n",
       "      <td>1.0</td>\n",
       "      <td>0.5</td>\n",
       "      <td>4.20</td>\n",
       "      <td>0.0</td>\n",
       "      <td>18.20</td>\n",
       "    </tr>\n",
       "    <tr>\n",
       "      <th>2</th>\n",
       "      <td>CMT</td>\n",
       "      <td>2013-10-07 11:47:37</td>\n",
       "      <td>2013-10-07 11:55:42</td>\n",
       "      <td>1</td>\n",
       "      <td>1.2</td>\n",
       "      <td>-73.973728</td>\n",
       "      <td>40.782853</td>\n",
       "      <td>1</td>\n",
       "      <td>N</td>\n",
       "      <td>-73.984120</td>\n",
       "      <td>40.768516</td>\n",
       "      <td>CRD</td>\n",
       "      <td>7.5</td>\n",
       "      <td>0.0</td>\n",
       "      <td>0.5</td>\n",
       "      <td>1.60</td>\n",
       "      <td>0.0</td>\n",
       "      <td>9.60</td>\n",
       "    </tr>\n",
       "    <tr>\n",
       "      <th>3</th>\n",
       "      <td>CMT</td>\n",
       "      <td>2013-10-12 04:51:00</td>\n",
       "      <td>2013-10-12 05:00:36</td>\n",
       "      <td>1</td>\n",
       "      <td>2.4</td>\n",
       "      <td>-73.910289</td>\n",
       "      <td>40.776281</td>\n",
       "      <td>1</td>\n",
       "      <td>N</td>\n",
       "      <td>-73.961744</td>\n",
       "      <td>40.765380</td>\n",
       "      <td>CRD</td>\n",
       "      <td>10.0</td>\n",
       "      <td>0.5</td>\n",
       "      <td>0.5</td>\n",
       "      <td>2.20</td>\n",
       "      <td>0.0</td>\n",
       "      <td>13.20</td>\n",
       "    </tr>\n",
       "    <tr>\n",
       "      <th>4</th>\n",
       "      <td>CMT</td>\n",
       "      <td>2013-10-13 22:56:01</td>\n",
       "      <td>2013-10-13 23:09:43</td>\n",
       "      <td>1</td>\n",
       "      <td>2.7</td>\n",
       "      <td>-73.980677</td>\n",
       "      <td>40.784765</td>\n",
       "      <td>1</td>\n",
       "      <td>N</td>\n",
       "      <td>-73.958752</td>\n",
       "      <td>40.760543</td>\n",
       "      <td>CRD</td>\n",
       "      <td>12.0</td>\n",
       "      <td>0.5</td>\n",
       "      <td>0.5</td>\n",
       "      <td>2.00</td>\n",
       "      <td>0.0</td>\n",
       "      <td>15.00</td>\n",
       "    </tr>\n",
       "  </tbody>\n",
       "</table>\n",
       "</div>"
      ],
      "text/plain": [
       "  vendor_id      pickup_datetime     dropoff_datetime  passenger_count  \\\n",
       "0       CMT  2013-10-09 14:46:30  2013-10-09 14:56:02                1   \n",
       "1       CMT  2013-10-09 17:32:08  2013-10-09 17:45:40                1   \n",
       "2       CMT  2013-10-07 11:47:37  2013-10-07 11:55:42                1   \n",
       "3       CMT  2013-10-12 04:51:00  2013-10-12 05:00:36                1   \n",
       "4       CMT  2013-10-13 22:56:01  2013-10-13 23:09:43                1   \n",
       "\n",
       "   trip_distance  pickup_longitude  pickup_latitude  rate_code  \\\n",
       "0            1.1        -73.986868        40.756240          1   \n",
       "1            2.9        -74.001103        40.721382          1   \n",
       "2            1.2        -73.973728        40.782853          1   \n",
       "3            2.4        -73.910289        40.776281          1   \n",
       "4            2.7        -73.980677        40.784765          1   \n",
       "\n",
       "  store_and_fwd_flag  dropoff_longitude  dropoff_latitude payment_type  \\\n",
       "0                  N         -73.980561         40.764797          CRD   \n",
       "1                  N         -73.952636         40.712134          CRD   \n",
       "2                  N         -73.984120         40.768516          CRD   \n",
       "3                  N         -73.961744         40.765380          CRD   \n",
       "4                  N         -73.958752         40.760543          CRD   \n",
       "\n",
       "   fare_amount  surcharge  mta_tax  tip_amount  tolls_amount  total_amount  \n",
       "0          8.0        0.0      0.5        2.12           0.0         10.62  \n",
       "1         12.5        1.0      0.5        4.20           0.0         18.20  \n",
       "2          7.5        0.0      0.5        1.60           0.0          9.60  \n",
       "3         10.0        0.5      0.5        2.20           0.0         13.20  \n",
       "4         12.0        0.5      0.5        2.00           0.0         15.00  "
      ]
     },
     "execution_count": 3,
     "metadata": {},
     "output_type": "execute_result"
    }
   ],
   "source": [
    "taxiData.head()"
   ]
  },
  {
   "cell_type": "markdown",
   "metadata": {},
   "source": [
    "## Generate the random sample"
   ]
  },
  {
   "cell_type": "code",
   "execution_count": 4,
   "metadata": {},
   "outputs": [],
   "source": [
    "taxiSample = taxiData.sample(100000)"
   ]
  },
  {
   "cell_type": "markdown",
   "metadata": {},
   "source": [
    "## Export the resulting dataset"
   ]
  },
  {
   "cell_type": "code",
   "execution_count": 5,
   "metadata": {},
   "outputs": [],
   "source": [
    "taxiSample.to_csv('../output/TaxiSample_2013_10.csv')"
   ]
  }
 ],
 "metadata": {
  "kernelspec": {
   "display_name": "Python 3",
   "language": "python",
   "name": "python3"
  },
  "language_info": {
   "codemirror_mode": {
    "name": "ipython",
    "version": 3
   },
   "file_extension": ".py",
   "mimetype": "text/x-python",
   "name": "python",
   "nbconvert_exporter": "python",
   "pygments_lexer": "ipython3",
   "version": "3.7.2"
  }
 },
 "nbformat": 4,
 "nbformat_minor": 2
}
