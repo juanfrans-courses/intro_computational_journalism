{
 "cells": [
  {
   "cell_type": "markdown",
   "metadata": {},
   "source": [
    "# Querying an API on a loop and updating a file"
   ]
  },
  {
   "cell_type": "markdown",
   "metadata": {},
   "source": [
    "This notebook shows how to create a script to query Twitter's API multiple times and update and output a `.csv` file."
   ]
  },
  {
   "cell_type": "markdown",
   "metadata": {},
   "source": [
    "**Importing libraries**"
   ]
  },
  {
   "cell_type": "code",
   "execution_count": 1,
   "metadata": {},
   "outputs": [],
   "source": [
    "import pandas as pd\n",
    "import numpy as np\n",
    "from requests import get\n",
    "from tweepy import OAuthHandler, API"
   ]
  },
  {
   "cell_type": "markdown",
   "metadata": {},
   "source": [
    "**Set keys and tokens**"
   ]
  },
  {
   "cell_type": "code",
   "execution_count": 2,
   "metadata": {},
   "outputs": [],
   "source": [
    "apikey = '' # Your credentials here\n",
    "apiSecret = '' # Your credentials here\n",
    "accessToken = '' # Your credentials here\n",
    "accessSecret = '' # Your credentials here"
   ]
  },
  {
   "cell_type": "markdown",
   "metadata": {},
   "source": [
    "**Build the api object that will interact with Tiwtter**"
   ]
  },
  {
   "cell_type": "code",
   "execution_count": 3,
   "metadata": {},
   "outputs": [],
   "source": [
    "auth = OAuthHandler(apikey, apiSecret)\n",
    "auth.set_access_token(accessToken, accessSecret)\n",
    "api = API(auth)"
   ]
  },
  {
   "cell_type": "code",
   "execution_count": 4,
   "metadata": {},
   "outputs": [
    {
     "name": "stdout",
     "output_type": "stream",
     "text": [
      "<tweepy.api.API object at 0x1181dacc0>\n"
     ]
    }
   ],
   "source": [
    "print(api)"
   ]
  },
  {
   "cell_type": "markdown",
   "metadata": {},
   "source": [
    "**Create an empty dataframe with the right columns to hold the data**"
   ]
  },
  {
   "cell_type": "code",
   "execution_count": 14,
   "metadata": {},
   "outputs": [],
   "source": [
    "twitterData = pd.DataFrame(columns=['created_at', 'tweet_id', 'text', 'user_id', 'user_name'])"
   ]
  },
  {
   "cell_type": "markdown",
   "metadata": {},
   "source": [
    "**Query the Twitter API once to start populating the dataframe**"
   ]
  },
  {
   "cell_type": "code",
   "execution_count": 15,
   "metadata": {},
   "outputs": [],
   "source": [
    "tweets = api.search('#WWC2019')"
   ]
  },
  {
   "cell_type": "code",
   "execution_count": 16,
   "metadata": {},
   "outputs": [
    {
     "data": {
      "text/html": [
       "<div>\n",
       "<style scoped>\n",
       "    .dataframe tbody tr th:only-of-type {\n",
       "        vertical-align: middle;\n",
       "    }\n",
       "\n",
       "    .dataframe tbody tr th {\n",
       "        vertical-align: top;\n",
       "    }\n",
       "\n",
       "    .dataframe thead th {\n",
       "        text-align: right;\n",
       "    }\n",
       "</style>\n",
       "<table border=\"1\" class=\"dataframe\">\n",
       "  <thead>\n",
       "    <tr style=\"text-align: right;\">\n",
       "      <th></th>\n",
       "      <th>created_at</th>\n",
       "      <th>tweet_id</th>\n",
       "      <th>text</th>\n",
       "      <th>user_id</th>\n",
       "      <th>user_name</th>\n",
       "    </tr>\n",
       "  </thead>\n",
       "  <tbody>\n",
       "    <tr>\n",
       "      <th>0</th>\n",
       "      <td>Fri Jun 07 14:21:00 +0000 2019</td>\n",
       "      <td>1137001517104422914</td>\n",
       "      <td>.@AndyKerrtv is joined by former #Matildas str...</td>\n",
       "      <td>576249121</td>\n",
       "      <td>beIN SPORTS</td>\n",
       "    </tr>\n",
       "    <tr>\n",
       "      <th>1</th>\n",
       "      <td>Fri Jun 07 14:20:49 +0000 2019</td>\n",
       "      <td>1137001467821350912</td>\n",
       "      <td>Quand tu reçois un SMS ce matin te disant que ...</td>\n",
       "      <td>2854595981</td>\n",
       "      <td>Laetitia Béraud</td>\n",
       "    </tr>\n",
       "    <tr>\n",
       "      <th>2</th>\n",
       "      <td>Fri Jun 07 14:20:14 +0000 2019</td>\n",
       "      <td>1137001324854296576</td>\n",
       "      <td>RT @ritaguari: Al via la #wwc2019 e domenica  ...</td>\n",
       "      <td>880920558</td>\n",
       "      <td>Esedra</td>\n",
       "    </tr>\n",
       "    <tr>\n",
       "      <th>3</th>\n",
       "      <td>Fri Jun 07 14:19:54 +0000 2019</td>\n",
       "      <td>1137001239009357824</td>\n",
       "      <td>The #FifaWWC kicks off today in #Paris, #Franc...</td>\n",
       "      <td>19654089</td>\n",
       "      <td>Keph Senett</td>\n",
       "    </tr>\n",
       "    <tr>\n",
       "      <th>4</th>\n",
       "      <td>Fri Jun 07 14:19:53 +0000 2019</td>\n",
       "      <td>1137001235360440320</td>\n",
       "      <td>RT @LaLigaEN: 🤩 The @FIFAWWC starts TODAY! 🤩\\n...</td>\n",
       "      <td>881833633505521664</td>\n",
       "      <td>Asuzú</td>\n",
       "    </tr>\n",
       "  </tbody>\n",
       "</table>\n",
       "</div>"
      ],
      "text/plain": [
       "                       created_at             tweet_id  \\\n",
       "0  Fri Jun 07 14:21:00 +0000 2019  1137001517104422914   \n",
       "1  Fri Jun 07 14:20:49 +0000 2019  1137001467821350912   \n",
       "2  Fri Jun 07 14:20:14 +0000 2019  1137001324854296576   \n",
       "3  Fri Jun 07 14:19:54 +0000 2019  1137001239009357824   \n",
       "4  Fri Jun 07 14:19:53 +0000 2019  1137001235360440320   \n",
       "\n",
       "                                                text             user_id  \\\n",
       "0  .@AndyKerrtv is joined by former #Matildas str...           576249121   \n",
       "1  Quand tu reçois un SMS ce matin te disant que ...          2854595981   \n",
       "2  RT @ritaguari: Al via la #wwc2019 e domenica  ...           880920558   \n",
       "3  The #FifaWWC kicks off today in #Paris, #Franc...            19654089   \n",
       "4  RT @LaLigaEN: 🤩 The @FIFAWWC starts TODAY! 🤩\\n...  881833633505521664   \n",
       "\n",
       "         user_name  \n",
       "0      beIN SPORTS  \n",
       "1  Laetitia Béraud  \n",
       "2           Esedra  \n",
       "3      Keph Senett  \n",
       "4            Asuzú  "
      ]
     },
     "execution_count": 16,
     "metadata": {},
     "output_type": "execute_result"
    }
   ],
   "source": [
    "for tweet in tweets:\n",
    "    created_at = tweet._json['created_at']\n",
    "    tweet_id = tweet._json['id_str']\n",
    "    text = tweet._json['text']\n",
    "    user_id = tweet._json['user']['id_str']\n",
    "    user_name = tweet._json['user']['name']\n",
    "    thisRow = [created_at, tweet_id, text, user_id, user_name]\n",
    "    twitterData.loc[len(twitterData)] = thisRow\n",
    "twitterData.head()"
   ]
  },
  {
   "cell_type": "markdown",
   "metadata": {},
   "source": [
    "**Export the dataframe to a new file**"
   ]
  },
  {
   "cell_type": "code",
   "execution_count": 17,
   "metadata": {},
   "outputs": [],
   "source": [
    "twitterData.to_csv('../output/TwitterData.csv', encoding='utf-8')"
   ]
  },
  {
   "cell_type": "markdown",
   "metadata": {},
   "source": [
    "**Create a script that does the following:**\n",
    "* Loads the existing file with tweets into a dataframe\n",
    "* Queries the Twitter API\n",
    "* For every tweet:\n",
    "    * Verifies to see if that tweet is already in the dataframe by comparing `tweet_id`\n",
    "    * If it is not in the dataframe, adds it to it\n",
    "* Exports the updated file"
   ]
  },
  {
   "cell_type": "code",
   "execution_count": 67,
   "metadata": {},
   "outputs": [
    {
     "name": "stdout",
     "output_type": "stream",
     "text": [
      "There are already 377 tweets in the file\n",
      "5 tweets were added to the file\n"
     ]
    },
    {
     "data": {
      "text/html": [
       "<div>\n",
       "<style scoped>\n",
       "    .dataframe tbody tr th:only-of-type {\n",
       "        vertical-align: middle;\n",
       "    }\n",
       "\n",
       "    .dataframe tbody tr th {\n",
       "        vertical-align: top;\n",
       "    }\n",
       "\n",
       "    .dataframe thead th {\n",
       "        text-align: right;\n",
       "    }\n",
       "</style>\n",
       "<table border=\"1\" class=\"dataframe\">\n",
       "  <thead>\n",
       "    <tr style=\"text-align: right;\">\n",
       "      <th></th>\n",
       "      <th>created_at</th>\n",
       "      <th>tweet_id</th>\n",
       "      <th>text</th>\n",
       "      <th>user_id</th>\n",
       "      <th>user_name</th>\n",
       "    </tr>\n",
       "  </thead>\n",
       "  <tbody>\n",
       "    <tr>\n",
       "      <th>372</th>\n",
       "      <td>Fri Jun 07 15:08:02 +0000 2019</td>\n",
       "      <td>1137013352859750400</td>\n",
       "      <td>RT @LaLigaEN: 🤩 The @FIFAWWC starts TODAY! 🤩\\n...</td>\n",
       "      <td>277912537</td>\n",
       "      <td>DejiFapo</td>\n",
       "    </tr>\n",
       "    <tr>\n",
       "      <th>373</th>\n",
       "      <td>Fri Jun 07 15:07:54 +0000 2019</td>\n",
       "      <td>1137013318479155200</td>\n",
       "      <td>🇧🇷 Si hablamos de promesas el nombre de GEYSE ...</td>\n",
       "      <td>2941481601</td>\n",
       "      <td>Somos Cantera™</td>\n",
       "    </tr>\n",
       "    <tr>\n",
       "      <th>374</th>\n",
       "      <td>Fri Jun 07 15:07:52 +0000 2019</td>\n",
       "      <td>1137013309037776901</td>\n",
       "      <td>🇨🇱 Elisa DURAN (17 años) fue una de la sorpres...</td>\n",
       "      <td>2941481601</td>\n",
       "      <td>Somos Cantera™</td>\n",
       "    </tr>\n",
       "    <tr>\n",
       "      <th>375</th>\n",
       "      <td>Fri Jun 07 15:07:50 +0000 2019</td>\n",
       "      <td>1137013299902603264</td>\n",
       "      <td>🇦🇷 La más joven del plantel de Argentina es: D...</td>\n",
       "      <td>2941481601</td>\n",
       "      <td>Somos Cantera™</td>\n",
       "    </tr>\n",
       "    <tr>\n",
       "      <th>376</th>\n",
       "      <td>Fri Jun 07 15:07:47 +0000 2019</td>\n",
       "      <td>1137013287965646848</td>\n",
       "      <td>🇺🇸 Las actuales campeonas del Mundial tendrá e...</td>\n",
       "      <td>2941481601</td>\n",
       "      <td>Somos Cantera™</td>\n",
       "    </tr>\n",
       "    <tr>\n",
       "      <th>377</th>\n",
       "      <td>Fri Jun 07 15:10:38 +0000 2019</td>\n",
       "      <td>1137014007007797248</td>\n",
       "      <td>RT @LaLigaEN: 🤩 The @FIFAWWC starts TODAY! 🤩\\n...</td>\n",
       "      <td>724854349</td>\n",
       "      <td>Chuky Unadulterated</td>\n",
       "    </tr>\n",
       "    <tr>\n",
       "      <th>378</th>\n",
       "      <td>Fri Jun 07 15:10:34 +0000 2019</td>\n",
       "      <td>1137013989244899329</td>\n",
       "      <td>⏳Unas horas antes la Copa Mundial Femenina de ...</td>\n",
       "      <td>952104950</td>\n",
       "      <td>Francia en Guatemala</td>\n",
       "    </tr>\n",
       "    <tr>\n",
       "      <th>379</th>\n",
       "      <td>Fri Jun 07 15:10:24 +0000 2019</td>\n",
       "      <td>1137013947696058368</td>\n",
       "      <td>RT @Candlewick: Every school subject can be ex...</td>\n",
       "      <td>884499458863529984</td>\n",
       "      <td>Laurie Smith</td>\n",
       "    </tr>\n",
       "    <tr>\n",
       "      <th>380</th>\n",
       "      <td>Fri Jun 07 15:09:26 +0000 2019</td>\n",
       "      <td>1137013703822454785</td>\n",
       "      <td>RT @MikeLiggins: Watch this !! On @BBCLookEast...</td>\n",
       "      <td>196675005</td>\n",
       "      <td>Nathan Moore</td>\n",
       "    </tr>\n",
       "    <tr>\n",
       "      <th>381</th>\n",
       "      <td>Fri Jun 07 15:08:13 +0000 2019</td>\n",
       "      <td>1137013398502346752</td>\n",
       "      <td>RT @extra3: Heute beginnt die Frauen-WM. Wer k...</td>\n",
       "      <td>901839136012808195</td>\n",
       "      <td>xDark</td>\n",
       "    </tr>\n",
       "  </tbody>\n",
       "</table>\n",
       "</div>"
      ],
      "text/plain": [
       "                         created_at             tweet_id  \\\n",
       "372  Fri Jun 07 15:08:02 +0000 2019  1137013352859750400   \n",
       "373  Fri Jun 07 15:07:54 +0000 2019  1137013318479155200   \n",
       "374  Fri Jun 07 15:07:52 +0000 2019  1137013309037776901   \n",
       "375  Fri Jun 07 15:07:50 +0000 2019  1137013299902603264   \n",
       "376  Fri Jun 07 15:07:47 +0000 2019  1137013287965646848   \n",
       "377  Fri Jun 07 15:10:38 +0000 2019  1137014007007797248   \n",
       "378  Fri Jun 07 15:10:34 +0000 2019  1137013989244899329   \n",
       "379  Fri Jun 07 15:10:24 +0000 2019  1137013947696058368   \n",
       "380  Fri Jun 07 15:09:26 +0000 2019  1137013703822454785   \n",
       "381  Fri Jun 07 15:08:13 +0000 2019  1137013398502346752   \n",
       "\n",
       "                                                  text             user_id  \\\n",
       "372  RT @LaLigaEN: 🤩 The @FIFAWWC starts TODAY! 🤩\\n...           277912537   \n",
       "373  🇧🇷 Si hablamos de promesas el nombre de GEYSE ...          2941481601   \n",
       "374  🇨🇱 Elisa DURAN (17 años) fue una de la sorpres...          2941481601   \n",
       "375  🇦🇷 La más joven del plantel de Argentina es: D...          2941481601   \n",
       "376  🇺🇸 Las actuales campeonas del Mundial tendrá e...          2941481601   \n",
       "377  RT @LaLigaEN: 🤩 The @FIFAWWC starts TODAY! 🤩\\n...           724854349   \n",
       "378  ⏳Unas horas antes la Copa Mundial Femenina de ...           952104950   \n",
       "379  RT @Candlewick: Every school subject can be ex...  884499458863529984   \n",
       "380  RT @MikeLiggins: Watch this !! On @BBCLookEast...           196675005   \n",
       "381  RT @extra3: Heute beginnt die Frauen-WM. Wer k...  901839136012808195   \n",
       "\n",
       "                user_name  \n",
       "372              DejiFapo  \n",
       "373        Somos Cantera™  \n",
       "374        Somos Cantera™  \n",
       "375        Somos Cantera™  \n",
       "376        Somos Cantera™  \n",
       "377   Chuky Unadulterated  \n",
       "378  Francia en Guatemala  \n",
       "379          Laurie Smith  \n",
       "380          Nathan Moore  \n",
       "381                 xDark  "
      ]
     },
     "execution_count": 67,
     "metadata": {},
     "output_type": "execute_result"
    }
   ],
   "source": [
    "myData = pd.read_csv('../output/TwitterData.csv', delimiter=',', encoding='utf-8', index_col=0) # loading existing csv with data\n",
    "myData.head()\n",
    "print('There are already', len(myData), 'tweets in the file')\n",
    "tweets = api.search('#WWC2019') # querying twitter api for tweets\n",
    "counter = 0\n",
    "for tweet in tweets:\n",
    "    created_at = tweet._json['created_at']\n",
    "    tweet_id = tweet._json['id_str']\n",
    "    text = tweet._json['text']\n",
    "    user_id = tweet._json['user']['id_str']\n",
    "    user_name = tweet._json['user']['name']\n",
    "    thisRow = [created_at, tweet_id, text, user_id, user_name]\n",
    "    \n",
    "    # test to see if tweets are already in the dataframe\n",
    "    existing_ids = myData['tweet_id'].unique()\n",
    "    if int(tweet_id) in existing_ids:\n",
    "        pass\n",
    "    else:\n",
    "        myData.loc[len(myData)] = thisRow\n",
    "        counter += 1\n",
    "myData.to_csv('../output/TwitterData.csv', encoding='utf-8')\n",
    "print(counter, 'tweets were added to the file')\n",
    "myData.tail(10)"
   ]
  }
 ],
 "metadata": {
  "kernelspec": {
   "display_name": "Python 3",
   "language": "python",
   "name": "python3"
  },
  "language_info": {
   "codemirror_mode": {
    "name": "ipython",
    "version": 3
   },
   "file_extension": ".py",
   "mimetype": "text/x-python",
   "name": "python",
   "nbconvert_exporter": "python",
   "pygments_lexer": "ipython3",
   "version": "3.7.2"
  }
 },
 "nbformat": 4,
 "nbformat_minor": 2
}
